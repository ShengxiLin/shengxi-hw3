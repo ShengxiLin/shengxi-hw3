{
 "cells": [
  {
   "cell_type": "markdown",
   "id": "464d789c",
   "metadata": {},
   "source": [
    "import pandas as pd\n",
    "import matplotlib.pyplot as plt\n",
    "import seaborn as sns\n",
    "import numpy as np\n",
    "\n",
    "# Generate synthetic penguins data\n",
    "np.random.seed(0)\n",
    "\n",
    "# Define species\n",
    "species_list = ['Adelie', 'Chinstrap', 'Gentoo']\n",
    "\n",
    "# Create synthetic flipper lengths for each species\n",
    "flipper_lengths = {\n",
    "    'Adelie': np.random.normal(190, 5, 50),  # Adelie penguins with mean flipper length 190 mm\n",
    "    'Chinstrap': np.random.normal(200, 6, 50),  # Chinstrap penguins with mean flipper length 200 mm\n",
    "    'Gentoo': np.random.normal(210, 7, 50)  # Gentoo penguins with mean flipper length 210 mm\n",
    "}\n",
    "\n",
    "# Construct the synthetic DataFrame\n",
    "penguins_df = pd.DataFrame({\n",
    "    'species': np.concatenate([[species] * 50 for species in species_list]),\n",
    "    'flipper_length_mm': np.concatenate([flipper_lengths[species] for species in species_list])\n",
    "})\n",
    "\n",
    "# Calculate required statistics for flipper_length_mm grouped by species\n",
    "penguin_stats = penguins_df.groupby('species')['flipper_length_mm'].agg(\n",
    "    mean='mean',\n",
    "    median='median',\n",
    "    min='min',\n",
    "    max='max',\n",
    "    q25=lambda x: x.quantile(0.25),\n",
    "    q75=lambda x: x.quantile(0.75),\n",
    "    std='std'\n",
    ").reset_index()\n",
    "\n",
    "# Set up the figure for seaborn KDE plots\n",
    "plt.figure(figsize=(15, 5))\n",
    "\n",
    "# Loop through each species and create a KDE plot\n",
    "for i, species in enumerate(penguin_stats['species'], start=1):\n",
    "    # Filter data for current species\n",
    "    species_data = penguins_df[penguins_df['species'] == species]['flipper_length_mm']\n",
    "    \n",
    "    # Create a subplot for each species\n",
    "    plt.subplot(1, 3, i)\n",
    "    sns.kdeplot(species_data, color='blue', label='Density')\n",
    "\n",
    "    # Plot mean and median lines\n",
    "    plt.axvline(penguin_stats[penguin_stats['species'] == species]['mean'].values[0], color='blue', linestyle='--', label='Mean')\n",
    "    plt.axvline(penguin_stats[penguin_stats['species'] == species]['median'].values[0], color='green', linestyle=':', label='Median')\n",
    "    \n",
    "    # Plot shaded areas for ranges\n",
    "    plt.axvspan(penguin_stats[penguin_stats['species'] == species]['min'].values[0], penguin_stats[penguin_stats['species'] == species]['max'].values[0], color='gray', alpha=0.2, label='Range')\n",
    "    plt.axvspan(penguin_stats[penguin_stats['species'] == species]['q25'].values[0], penguin_stats[penguin_stats['species'] == species]['q75'].values[0], color='purple', alpha=0.2, label='IQR')\n",
    "    plt.axvspan(penguin_stats[penguin_stats['species'] == species]['mean'].values[0] - 2 * penguin_stats[penguin_stats['species'] == species]['std'].values[0], \n",
    "                penguin_stats[penguin_stats['species'] == species]['mean'].values[0] + 2 * penguin_stats[penguin_stats['species'] == species]['std'].values[0], \n",
    "                color='red', alpha=0.2, label='2 Std Dev')\n",
    "\n",
    "    # Set title and labels\n",
    "    plt.title(f'{species} - Flipper Length Distribution')\n",
    "    plt.xlabel('Flipper Length (mm)')\n",
    "    plt.ylabel('Density')\n",
    "    plt.legend()\n",
    "\n",
    "# Adjust layout and show the plots\n",
    "plt.tight_layout()\n",
    "plt.show()\n"
   ]
  },
  {
   "cell_type": "markdown",
   "id": "e3e638b5",
   "metadata": {},
   "source": [
    "https://chatgpt.com/c/66f4d4fb-b260-800a-889c-39ffd9b42191"
   ]
  },
  {
   "cell_type": "markdown",
   "id": "904dad1a",
   "metadata": {},
   "source": [
    "import pandas as pd\n",
    "import matplotlib.pyplot as plt\n",
    "import seaborn as sns\n",
    "import numpy as np\n",
    "\n",
    "# Generate synthetic penguins data\n",
    "np.random.seed(0)\n",
    "\n",
    "# Define species\n",
    "species_list = ['Adelie', 'Chinstrap', 'Gentoo']\n",
    "\n",
    "# Create synthetic flipper lengths for each species\n",
    "flipper_lengths = {\n",
    "    'Adelie': np.random.normal(190, 5, 50),  # Adelie penguins with mean flipper length 190 mm\n",
    "    'Chinstrap': np.random.normal(200, 6, 50),  # Chinstrap penguins with mean flipper length 200 mm\n",
    "    'Gentoo': np.random.normal(210, 7, 50)  # Gentoo penguins with mean flipper length 210 mm\n",
    "}\n",
    "\n",
    "# Construct the synthetic DataFrame\n",
    "penguins_df = pd.DataFrame({\n",
    "    'species': np.concatenate([[species] * 50 for species in species_list]),\n",
    "    'flipper_length_mm': np.concatenate([flipper_lengths[species] for species in species_list])\n",
    "})\n",
    "\n",
    "# Calculate required statistics for flipper_length_mm grouped by species\n",
    "penguin_stats = penguins_df.groupby('species')['flipper_length_mm'].agg(\n",
    "    mean='mean',\n",
    "    median='median',\n",
    "    min='min',\n",
    "    max='max',\n",
    "    q25=lambda x: x.quantile(0.25),\n",
    "    q75=lambda x: x.quantile(0.75),\n",
    "    std='std'\n",
    ").reset_index()\n",
    "\n",
    "# Set up the figure for seaborn KDE plots\n",
    "plt.figure(figsize=(15, 5))\n",
    "\n",
    "# Loop through each species and create a KDE plot\n",
    "for i, species in enumerate(penguin_stats['species'], start=1):\n",
    "    # Filter data for current species\n",
    "    species_data = penguins_df[penguins_df['species'] == species]['flipper_length_mm']\n",
    "    \n",
    "    # Create a subplot for each species\n",
    "    plt.subplot(1, 3, i)\n",
    "    sns.kdeplot(species_data, fill=True, color='skyblue', label='Density')\n",
    "\n",
    "    # Plot mean and median lines\n",
    "    plt.axvline(penguin_stats[penguin_stats['species'] == species]['mean'].values[0], color='blue', linestyle='--', label='Mean')\n",
    "    plt.axvline(penguin_stats[penguin_stats['species'] == species]['median'].values[0], color='green', linestyle=':', label='Median')\n",
    "    \n",
    "    # Plot shaded areas for ranges\n",
    "    plt.axvspan(penguin_stats[penguin_stats['species'] == species]['min'].values[0], penguin_stats[penguin_stats['species'] == species]['max'].values[0], color='gray', alpha=0.2, label='Range')\n",
    "    plt.axvspan(penguin_stats[penguin_stats['species'] == species]['q25'].values[0], penguin_stats[penguin_stats['species'] == species]['q75'].values[0], color='purple', alpha=0.2, label='IQR')\n",
    "    plt.axvspan(penguin_stats[penguin_stats['species'] == species]['mean'].values[0] - 2 * penguin_stats[penguin_stats['species'] == species]['std'].values[0], \n",
    "                penguin_stats[penguin_stats['species'] == species]['mean'].values[0] + 2 * penguin_stats[penguin_stats['species'] == species]['std'].values[0], \n",
    "                color='red', alpha=0.2, label='2 Std Dev')\n",
    "\n",
    "    # Set title and labels\n",
    "    plt.title(f'{species} - Flipper Length Distribution')\n",
    "    plt.xlabel('Flipper Length (mm)')\n",
    "    plt.ylabel('Density')\n",
    "    plt.legend()\n",
    "\n",
    "# Adjust layout and show the plots\n",
    "plt.tight_layout()\n",
    "plt.show()\n"
   ]
  },
  {
   "cell_type": "markdown",
   "id": "be54987d",
   "metadata": {},
   "source": [
    "from scipy import stats\n",
    "import plotly.graph_objects as go\n",
    "from plotly.subplots import make_subplots\n",
    "import numpy as np\n",
    "\n",
    "n = 1500\n",
    "data1 = stats.uniform.rvs(0, 10, size=n)\n",
    "data2 = stats.norm.rvs(5, 1.5, size=n)\n",
    "data3 = np.r_[stats.norm.rvs(2, 0.25, size=int(n/2)), stats.norm.rvs(8, 0.5, size=int(n/2))]\n",
    "data4 = stats.norm.rvs(6, 0.5, size=n)\n",
    "\n",
    "fig = make_subplots(rows=1, cols=4)\n",
    "\n",
    "fig.add_trace(go.Histogram(x=data1, name='A', nbinsx=30, marker=dict(line=dict(color='black', width=1))), row=1, col=1)\n",
    "fig.add_trace(go.Histogram(x=data2, name='B', nbinsx=15, marker=dict(line=dict(color='black', width=1))), row=1, col=2)\n",
    "fig.add_trace(go.Histogram(x=data3, name='C', nbinsx=45, marker=dict(line=dict(color='black', width=1))), row=1, col=3)\n",
    "fig.add_trace(go.Histogram(x=data4, name='D', nbinsx=15, marker=dict(line=dict(color='black', width=1))), row=1, col=4)\n",
    "\n",
    "fig.update_layout(height=300, width=750, title_text=\"Row of Histograms\")\n",
    "fig.update_xaxes(title_text=\"A\", row=1, col=1)\n",
    "fig.update_xaxes(title_text=\"B\", row=1, col=2)\n",
    "fig.update_xaxes(title_text=\"C\", row=1, col=3)\n",
    "fig.update_xaxes(title_text=\"D\", row=1, col=4)\n",
    "fig.update_xaxes(range=[-0.5, 10.5])\n",
    "\n",
    "for trace in fig.data:\n",
    "    trace.xbins = dict(start=0, end=10)\n",
    "    \n",
    "# This code was produced by just making requests to Microsoft Copilot\n",
    "# https://github.com/pointOfive/stat130chat130/blob/main/CHATLOG/wk3/COP/SLS/0001_concise_makeAplotV1.md\n",
    "\n",
    "fig.show() # USE `fig.show(renderer=\"png\")` FOR ALL GitHub and MarkUs SUBMISSIONS"
   ]
  },
  {
   "cell_type": "markdown",
   "id": "f1a9379b",
   "metadata": {},
   "source": [
    "Question 4:\n",
    "    None of the data sets have similar means and variances\n",
    "    A and B has similar means but different variance\n",
    "    D has different mean compared to A,b and C"
   ]
  },
  {
   "cell_type": "markdown",
   "id": "1f96bde9",
   "metadata": {},
   "source": [
    "Chatgpt link:https://chatgpt.com/c/66f4d4fb-b260-800a-889c-39ffd9b42191"
   ]
  },
  {
   "cell_type": "markdown",
   "id": "8a665bc1",
   "metadata": {},
   "source": [
    "Post lecture homework"
   ]
  },
  {
   "cell_type": "markdown",
   "id": "d75a8321",
   "metadata": {},
   "source": [
    "Question1\n"
   ]
  },
  {
   "cell_type": "markdown",
   "id": "3a1a2be3",
   "metadata": {},
   "source": [
    "from scipy import stats\n",
    "import pandas as pd\n",
    "import numpy as np\n",
    "  \n",
    "sample1 = stats.gamma(a=2,scale=2).rvs(size=1000)\n",
    "fig1 = px.histogram(pd.DataFrame({'data': sample1}), x=\"data\")\n",
    "# USE fig1.show(renderer=\"png\") FOR ALL GitHub and MarkUs SUBMISSIONS\n",
    "\n",
    "sample1.mean()\n",
    "np.quantile(sample1, [0.5]) # median\n",
    "\n",
    "sample2 = -stats.gamma(a=2,scale=2).rvs(size=1000)"
   ]
  },
  {
   "cell_type": "markdown",
   "id": "44ca1cbf",
   "metadata": {},
   "source": [
    "from scipy import stats\n",
    "import pandas as pd\n",
    "import numpy as np\n"
   ]
  },
  {
   "cell_type": "markdown",
   "id": "807a8518",
   "metadata": {},
   "source": [
    "fig1 = px.histogram(pd.DataFrame({'data': sample1}), x=\"data\")\n",
    "# USE fig1.show(renderer=\"png\") FOR ALL GitHub and MarkUs SUBMISSIONS\n"
   ]
  },
  {
   "cell_type": "markdown",
   "id": "ba42dfa0",
   "metadata": {},
   "source": [
    "sample1.mean()\n",
    "np.quantile(sample1, [0.5])  # median\n"
   ]
  },
  {
   "cell_type": "markdown",
   "id": "f142f28f",
   "metadata": {},
   "source": [
    "sample2 = -stats.gamma(a=2, scale=2).rvs(size=1000)\n"
   ]
  },
  {
   "cell_type": "markdown",
   "id": "ac70927e",
   "metadata": {},
   "source": [
    "pip install plotly\n"
   ]
  },
  {
   "cell_type": "markdown",
   "id": "df1095db",
   "metadata": {},
   "source": [
    "# Creating an alternative scatter plot with modified parameters\n",
    "fig2 = px.scatter(\n",
    "    df, \n",
    "    x=\"gdpPercap\",  # Placeholder, will change in your provided dataset\n",
    "    y=\"lifeExp\",  # Placeholder, will change in your provided dataset\n",
    "    animation_frame=\"year\", \n",
    "    animation_group=\"country\",  # Placeholder, will be \"name\" in your dataset\n",
    "    size=\"pop\",  # Placeholder, will change to \"percent\" in your dataset\n",
    "    color=\"continent\",  # Placeholder, will change to \"sex\" in your dataset\n",
    "    hover_name=\"country\",  # Placeholder, will be \"name\" in your dataset\n",
    "    size_max=50, \n",
    "    range_x=[-0.005, 0.005]\n",
    ")\n",
    "\n",
    "# Displaying the modified figure\n",
    "fig2.show()\n"
   ]
  },
  {
   "cell_type": "markdown",
   "id": "a83c526b",
   "metadata": {},
   "source": [
    "fig2 = px.scatter(\n",
    "    df, \n",
    "    x=\"percent change\",  # Change to your column name for percent change\n",
    "    y=\"rank\",  # Change to your column name for rank\n",
    "    animation_frame=\"year\", \n",
    "    animation_group=\"name\",  # Animation grouped by name\n",
    "    size=\"percent\",  # Change to your column name for percent\n",
    "    color=\"sex\",  # Change to your column name for sex\n",
    "    hover_name=\"name\",  # Hover over each point to show the name\n",
    "    size_max=50, \n",
    "    range_x=[-0.005, 0.005]\n",
    ")\n"
   ]
  },
  {
   "cell_type": "markdown",
   "id": "8e5de9af",
   "metadata": {},
   "source": [
    "import plotly.express as px\n",
    "\n",
    "# Assume df is your dataset with the specified columns\n",
    "fig = px.scatter(\n",
    "    df, \n",
    "    x=\"percent change\", \n",
    "    y=\"rank\", \n",
    "    animation_frame=\"year\", \n",
    "    animation_group=\"name\",\n",
    "    size=\"percent\", \n",
    "    color=\"sex\", \n",
    "    hover_name=\"name\",\n",
    "    size_max=50, \n",
    "    range_x=[-0.005, 0.005]\n",
    ")\n",
    "\n",
    "fig.show()\n"
   ]
  },
  {
   "cell_type": "markdown",
   "id": "7846b032",
   "metadata": {},
   "source": [
    "Chatgpt link:https://chatgpt.com/c/66f591cb-daf0-800a-8cdc-e02d2764bd38"
   ]
  },
  {
   "cell_type": "markdown",
   "id": "50b1f723",
   "metadata": {},
   "source": [
    "Summary of the chatbot session:\n",
    "\n",
    "In this session, we covered several main topics:\n",
    "\n",
    "Exploring Skewness: We discussed how right and left skewness affect the relationship between the mean and median, with examples using a Gamma distribution. You explored generating right- and left-skewed samples, visualizing them, and analyzing their summary statistics to understand how skewness influences central tendency.\n",
    "\n",
    "Dataset Exploration: You attempted to load and analyze a nutrition dataset from an online source, aiming to explore summary statistics and visualize its aspects. However, due to limitations in accessing external URLs, I suggested uploading the dataset locally for further analysis.\n",
    "\n",
    "Interactive Plotly Visualization: You aimed to recreate and modify an interactive animated scatter plot using Plotly. The first plot was based on the Gapminder dataset, illustrating the relationship between GDP per capita and life expectancy over time. The second version of the plot required customizing the parameters (e.g., percent change, rank, percent, and sex) to visualize a different dataset.\n",
    "\n",
    "Customizing Scatter Plot Parameters: You specified new parameters for the scatter plot to reflect a different dataset structure, emphasizing features like \"percent change,\" \"rank,\" \"sex,\" and \"name,\" and adjusting the animation to show changes over \"year.\"\n",
    "\n",
    "If you have any data files or additional details for the modified scatter plot, feel free to share them, and I can assist further!"
   ]
  }
 ],
 "metadata": {
  "kernelspec": {
   "display_name": "Python 3 (ipykernel)",
   "language": "python",
   "name": "python3"
  },
  "language_info": {
   "codemirror_mode": {
    "name": "ipython",
    "version": 3
   },
   "file_extension": ".py",
   "mimetype": "text/x-python",
   "name": "python",
   "nbconvert_exporter": "python",
   "pygments_lexer": "ipython3",
   "version": "3.11.6"
  }
 },
 "nbformat": 4,
 "nbformat_minor": 5
}
